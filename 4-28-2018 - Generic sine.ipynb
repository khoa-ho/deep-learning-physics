{
 "cells": [
  {
   "cell_type": "markdown",
   "metadata": {},
   "source": [
    "# Predicting a generic sinusoidal waveform"
   ]
  },
  {
   "cell_type": "code",
   "execution_count": 1,
   "metadata": {},
   "outputs": [
    {
     "name": "stderr",
     "output_type": "stream",
     "text": [
      "/home/bipe26194/miniconda3/envs/tensorflow/lib/python3.6/site-packages/h5py/__init__.py:36: FutureWarning: Conversion of the second argument of issubdtype from `float` to `np.floating` is deprecated. In future, it will be treated as `np.float64 == np.dtype(float).type`.\n",
      "  from ._conv import register_converters as _register_converters\n",
      "Using TensorFlow backend.\n"
     ]
    }
   ],
   "source": [
    "import keras\n",
    "from keras.models import Sequential\n",
    "from keras.layers import Dense, Activation, Dropout, LSTM, CuDNNLSTM, GRU, CuDNNGRU, Bidirectional\n",
    "import matplotlib.pyplot as plt\n",
    "import numpy as np\n",
    "import pandas as pd\n",
    "import random\n",
    "from random import seed, random\n",
    "from sklearn.utils import shuffle\n",
    "\n",
    "%matplotlib inline"
   ]
  },
  {
   "cell_type": "code",
   "execution_count": 124,
   "metadata": {},
   "outputs": [],
   "source": [
    "np.random.seed(1337)  # for reproducibility\n",
    "\n",
    "# Simulate data\n",
    "cycle = 20\n",
    "step = 0.05\n",
    "noise = 0.00 # standard deviation from 0\n",
    "decaying_coef = 0.00\n",
    "start_coef = 1\n",
    "stop_coef = 1\n",
    "step_coef = 0.1\n",
    "\n",
    "data = []\n",
    "\n",
    "for coeff in np.arange(start_coef, stop_coef+step_coef, step_coef):\n",
    "    end_pt = 2 * np.pi * cycle\n",
    "    t = np.arange(0, end_pt, step)\n",
    "    a = np.sin(coeff * t)\n",
    "    a_noisy = a + np.random.normal(0, noise, a.size)\n",
    "    a_decaying = a_noisy * np.exp(-decaying_coef * t)\n",
    "    data.append(a_decaying)\n",
    "\n",
    "# Note: If noise is not modulated by the exponential function, it will overwhelm the signal near the end of the data sequence\n",
    "# which is where test data is picked from. We can modulate it in simulated environment but in experiments, we may have to discard\n",
    "# data near the end of the motion."
   ]
  },
  {
   "cell_type": "code",
   "execution_count": 125,
   "metadata": {},
   "outputs": [
    {
     "data": {
      "image/png": "[encoded data removed]",
      "text/plain": [
       "<Figure size 432x288 with 3 Axes>"
      ]
     },
     "metadata": {},
     "output_type": "display_data"
    }
   ],
   "source": [
    "# visualize data\n",
    "n_plot = int(a.size / 10)\n",
    "\n",
    "_, axarr = plt.subplots(3, sharex=True, sharey=True)\n",
    "axarr[0].plot(a[:n_plot])\n",
    "axarr[0].set_title('Population')\n",
    "axarr[1].plot(a_decaying[:n_plot])\n",
    "axarr[1].set_title('Observation')\n",
    "axarr[2].plot(a[:n_plot], label=\"Population\")\n",
    "axarr[2].plot(a_decaying[:n_plot], label=\"Observation\")\n",
    "axarr[2].set_title('Population and Observation')\n",
    "axarr[2].legend()\n",
    "plt.tight_layout()\n",
    "plt.show()"
   ]
  },
  {
   "cell_type": "code",
   "execution_count": 253,
   "metadata": {},
   "outputs": [],
   "source": [
    "# hyperparameters\n",
    "DATA_DIM = 1\n",
    "N_PREV = 50 # number of previous steps used to predict the next step"
   ]
  },
  {
   "cell_type": "code",
   "execution_count": 275,
   "metadata": {},
   "outputs": [],
   "source": [
    "def _load_data(data, n_prev=N_PREV, is_shuffled=True):\n",
    "    docX, docY = [], []\n",
    "    for series in data:\n",
    "        for j in range(len(series)-n_prev):\n",
    "            docX.append(series[j:j+n_prev])\n",
    "            docY.append(series[j+n_prev])   \n",
    "    alsX = np.array(docX)\n",
    "    alsY = np.array(docY)\n",
    "    if is_shuffled: \n",
    "        alsX, alsY = shuffle(alsX, alsY)\n",
    "\n",
    "    return alsX.reshape(alsX.shape[0], alsX.shape[1], DATA_DIM), alsY.reshape(alsY.shape[0], DATA_DIM)\n",
    "\n",
    "def train_test_split(data):  \n",
    "    \"\"\"\n",
    "    This just splits data to training and testing parts\n",
    "    \"\"\"\n",
    "    test_id = np.random.randint(0, len(data))\n",
    "    data_train = data[:test_id] + data[test_id+1:]\n",
    "    np.random.shuffle(data_train)\n",
    "    X_train, y_train = _load_data(data_train, is_shuffled=False)\n",
    "    X_test, y_test = _load_data([data[test_id]], is_shuffled=False)\n",
    "    \n",
    "    return (X_train, y_train), (X_test, y_test)\n",
    "\n",
    "# retrieve data\n",
    "(X_train, y_train), (X_test, y_test) = train_test_split(data)"
   ]
  },
  {
   "cell_type": "code",
   "execution_count": 276,
   "metadata": {},
   "outputs": [],
   "source": [
    "# define model structure\n",
    "model = Sequential()\n",
    "model.add(Bidirectional(LSTM(units=150, return_sequences=False), input_shape=(None, 1)))\n",
    "# model.add(Bidirectional(LSTM(units=50, return_sequences=False)))\n",
    "# model.add(Bidirectional(CuDNNLSTM(units=10, return_sequences=True)))\n",
    "# model.add(Bidirectional(CuDNNLSTM(units=10, return_sequences=False)))\n",
    "model.add(Dense(units=30, activation=\"linear\"))\n",
    "model.add(Dense(units=1, activation=\"linear\"))\n",
    "model.compile(loss=\"mean_squared_error\", optimizer=\"adam\")"
   ]
  },
  {
   "cell_type": "code",
   "execution_count": null,
   "metadata": {},
   "outputs": [
    {
     "name": "stdout",
     "output_type": "stream",
     "text": [
      "Train on 1971 samples, validate on 493 samples\n",
      "Epoch 1/90\n",
      "1971/1971 [==============================] - 7s 4ms/step - loss: 0.0643 - val_loss: 0.0058\n",
      "Epoch 2/90\n",
      "1971/1971 [==============================] - 2s 1ms/step - loss: 0.0010 - val_loss: 1.6321e-05\n",
      "Epoch 3/90\n",
      "1971/1971 [==============================] - 2s 1ms/step - loss: 4.7497e-05 - val_loss: 9.4966e-06\n",
      "Epoch 4/90\n",
      "1971/1971 [==============================] - 2s 1ms/step - loss: 8.3976e-06 - val_loss: 5.9662e-06\n",
      "Epoch 5/90\n",
      "1971/1971 [==============================] - 2s 1ms/step - loss: 6.2134e-06 - val_loss: 5.9545e-06\n",
      "Epoch 6/90\n",
      "1971/1971 [==============================] - 2s 1ms/step - loss: 5.9946e-06 - val_loss: 6.1502e-06\n",
      "Epoch 7/90\n",
      "1971/1971 [==============================] - 2s 1ms/step - loss: 6.0379e-06 - val_loss: 5.8733e-06\n",
      "Epoch 8/90\n",
      "1971/1971 [==============================] - 2s 1ms/step - loss: 5.8633e-06 - val_loss: 5.7089e-06\n",
      "Epoch 9/90\n",
      "1971/1971 [==============================] - 2s 1ms/step - loss: 5.9353e-06 - val_loss: 5.7528e-06\n",
      "Epoch 10/90\n",
      "1971/1971 [==============================] - 2s 1ms/step - loss: 5.9371e-06 - val_loss: 6.2624e-06\n",
      "Epoch 11/90\n",
      "1971/1971 [==============================] - 2s 1ms/step - loss: 5.7332e-06 - val_loss: 5.9623e-06\n",
      "Epoch 12/90\n",
      "1971/1971 [==============================] - 2s 1ms/step - loss: 5.8319e-06 - val_loss: 5.7632e-06\n",
      "Epoch 13/90\n",
      "1971/1971 [==============================] - 2s 1ms/step - loss: 5.5646e-06 - val_loss: 5.9170e-06\n",
      "Epoch 14/90\n",
      "1971/1971 [==============================] - 2s 1ms/step - loss: 5.5401e-06 - val_loss: 5.9208e-06\n",
      "Epoch 15/90\n",
      "1971/1971 [==============================] - 2s 1ms/step - loss: 5.8714e-06 - val_loss: 5.5499e-06\n",
      "Epoch 16/90\n",
      "1971/1971 [==============================] - 2s 1ms/step - loss: 5.6064e-06 - val_loss: 5.7739e-06\n",
      "Epoch 17/90\n",
      "1971/1971 [==============================] - 2s 1ms/step - loss: 5.4729e-06 - val_loss: 5.5291e-06\n",
      "Epoch 18/90\n",
      "1971/1971 [==============================] - 2s 1ms/step - loss: 5.1085e-06 - val_loss: 6.6811e-06\n",
      "Epoch 19/90\n",
      "1971/1971 [==============================] - 2s 1ms/step - loss: 5.2125e-06 - val_loss: 5.1611e-06\n",
      "Epoch 20/90\n",
      "1971/1971 [==============================] - 2s 1ms/step - loss: 5.1602e-06 - val_loss: 6.7512e-06\n",
      "Epoch 21/90\n",
      "1971/1971 [==============================] - 2s 1ms/step - loss: 5.2508e-06 - val_loss: 4.6487e-06\n",
      "Epoch 22/90\n",
      "1971/1971 [==============================] - 2s 1ms/step - loss: 4.7052e-06 - val_loss: 4.5361e-06\n",
      "Epoch 23/90\n",
      "1971/1971 [==============================] - 2s 1ms/step - loss: 4.8302e-06 - val_loss: 4.5372e-06\n",
      "Epoch 24/90\n",
      "1971/1971 [==============================] - 2s 1ms/step - loss: 4.6671e-06 - val_loss: 4.4219e-06\n",
      "Epoch 25/90\n",
      "1971/1971 [==============================] - 2s 1ms/step - loss: 4.4255e-06 - val_loss: 4.6118e-06\n",
      "Epoch 26/90\n",
      "1971/1971 [==============================] - 2s 1ms/step - loss: 4.9978e-06 - val_loss: 4.8858e-06\n",
      "Epoch 27/90\n",
      "1971/1971 [==============================] - 2s 1ms/step - loss: 5.1634e-06 - val_loss: 4.2119e-06\n",
      "Epoch 28/90\n",
      "1971/1971 [==============================] - 2s 1ms/step - loss: 4.1849e-06 - val_loss: 4.6751e-06\n",
      "Epoch 29/90\n",
      "1971/1971 [==============================] - 2s 1ms/step - loss: 4.1439e-06 - val_loss: 4.2793e-06\n",
      "Epoch 30/90\n",
      "1971/1971 [==============================] - 2s 1ms/step - loss: 4.2235e-06 - val_loss: 4.8455e-06\n",
      "Epoch 31/90\n",
      "1971/1971 [==============================] - 2s 1ms/step - loss: 3.9608e-06 - val_loss: 4.4004e-06\n",
      "Epoch 32/90\n",
      "1971/1971 [==============================] - 2s 1ms/step - loss: 3.9596e-06 - val_loss: 3.8910e-06\n",
      "Epoch 33/90\n",
      "1971/1971 [==============================] - 2s 1ms/step - loss: 3.6874e-06 - val_loss: 3.5312e-06\n",
      "Epoch 34/90\n",
      "1971/1971 [==============================] - 2s 1ms/step - loss: 3.6469e-06 - val_loss: 3.4011e-06\n",
      "Epoch 35/90\n",
      "1971/1971 [==============================] - 2s 1ms/step - loss: 3.5849e-06 - val_loss: 3.2696e-06\n",
      "Epoch 36/90\n",
      "1971/1971 [==============================] - 2s 1ms/step - loss: 3.6404e-06 - val_loss: 3.0709e-06\n",
      "Epoch 37/90\n",
      "1971/1971 [==============================] - 2s 1ms/step - loss: 3.0904e-06 - val_loss: 2.9112e-06\n",
      "Epoch 38/90\n",
      "1971/1971 [==============================] - 2s 1ms/step - loss: 2.8739e-06 - val_loss: 2.6798e-06\n",
      "Epoch 39/90\n",
      "1971/1971 [==============================] - 2s 1ms/step - loss: 2.9222e-06 - val_loss: 2.7971e-06\n",
      "Epoch 40/90\n",
      "1971/1971 [==============================] - 2s 1ms/step - loss: 2.7713e-06 - val_loss: 3.1391e-06\n",
      "Epoch 41/90\n",
      "1971/1971 [==============================] - 2s 1ms/step - loss: 2.5966e-06 - val_loss: 2.3296e-06\n",
      "Epoch 42/90\n",
      "1971/1971 [==============================] - 2s 1ms/step - loss: 2.7308e-06 - val_loss: 2.5917e-06\n",
      "Epoch 43/90\n",
      "1971/1971 [==============================] - 2s 1ms/step - loss: 2.8797e-06 - val_loss: 3.2350e-06\n",
      "Epoch 44/90\n",
      "1971/1971 [==============================] - 2s 1ms/step - loss: 2.8128e-06 - val_loss: 2.2786e-06\n",
      "Epoch 45/90\n",
      "1971/1971 [==============================] - 2s 1ms/step - loss: 2.1732e-06 - val_loss: 2.5095e-06\n",
      "Epoch 46/90\n",
      "1971/1971 [==============================] - 2s 1ms/step - loss: 2.3057e-06 - val_loss: 1.8577e-06\n",
      "Epoch 47/90\n",
      "1971/1971 [==============================] - 2s 1ms/step - loss: 2.2606e-06 - val_loss: 1.8983e-06\n",
      "Epoch 48/90\n",
      "1971/1971 [==============================] - 2s 1ms/step - loss: 1.8631e-06 - val_loss: 1.6217e-06\n",
      "Epoch 49/90\n",
      "1971/1971 [==============================] - 2s 1ms/step - loss: 1.7219e-06 - val_loss: 1.7610e-06\n",
      "Epoch 50/90\n",
      "1971/1971 [==============================] - 2s 1ms/step - loss: 1.5780e-06 - val_loss: 1.4678e-06\n",
      "Epoch 51/90\n",
      "1971/1971 [==============================] - 2s 1ms/step - loss: 1.5280e-06 - val_loss: 1.3936e-06\n",
      "Epoch 52/90\n",
      "1971/1971 [==============================] - 2s 1ms/step - loss: 1.4178e-06 - val_loss: 1.4833e-06\n",
      "Epoch 53/90\n",
      "1971/1971 [==============================] - 2s 1ms/step - loss: 1.3710e-06 - val_loss: 1.2051e-06\n",
      "Epoch 54/90\n",
      "1971/1971 [==============================] - 2s 1ms/step - loss: 1.4878e-06 - val_loss: 1.4286e-06\n",
      "Epoch 55/90\n",
      "1971/1971 [==============================] - 2s 1ms/step - loss: 1.2131e-06 - val_loss: 1.1446e-06\n",
      "Epoch 56/90\n",
      "1971/1971 [==============================] - 2s 1ms/step - loss: 1.2757e-06 - val_loss: 1.0680e-06\n",
      "Epoch 57/90\n",
      "1971/1971 [==============================] - 2s 1ms/step - loss: 1.0455e-06 - val_loss: 9.3948e-07\n",
      "Epoch 58/90\n",
      "1971/1971 [==============================] - 2s 1ms/step - loss: 1.0362e-06 - val_loss: 1.0193e-06\n",
      "Epoch 59/90\n",
      "1971/1971 [==============================] - 2s 1ms/step - loss: 1.1787e-06 - val_loss: 1.9608e-06\n",
      "Epoch 60/90\n",
      "1971/1971 [==============================] - 2s 1ms/step - loss: 9.9299e-07 - val_loss: 9.2201e-07\n",
      "Epoch 61/90\n",
      "1971/1971 [==============================] - 2s 1ms/step - loss: 8.7081e-07 - val_loss: 8.1048e-07\n",
      "Epoch 62/90\n",
      "1971/1971 [==============================] - 2s 1ms/step - loss: 8.8258e-07 - val_loss: 7.9634e-07\n",
      "Epoch 63/90\n",
      "1971/1971 [==============================] - 2s 1ms/step - loss: 7.6063e-07 - val_loss: 7.1368e-07\n",
      "Epoch 64/90\n",
      "1971/1971 [==============================] - 2s 1ms/step - loss: 8.4068e-07 - val_loss: 1.9363e-06\n",
      "Epoch 65/90\n",
      "1971/1971 [==============================] - 2s 1ms/step - loss: 8.0978e-07 - val_loss: 5.7759e-07\n",
      "Epoch 66/90\n",
      "1971/1971 [==============================] - 2s 1ms/step - loss: 7.4658e-07 - val_loss: 6.6682e-07\n",
      "Epoch 67/90\n",
      "1971/1971 [==============================] - 2s 1ms/step - loss: 5.3741e-07 - val_loss: 5.4227e-07\n",
      "Epoch 68/90\n",
      "1971/1971 [==============================] - 2s 1ms/step - loss: 5.1873e-07 - val_loss: 5.0295e-07\n",
      "Epoch 69/90\n",
      "1971/1971 [==============================] - 2s 1ms/step - loss: 4.6323e-07 - val_loss: 4.3316e-07\n",
      "Epoch 70/90\n",
      " 960/1971 [=============>................] - ETA: 1s - loss: 4.1491e-07"
     ]
    }
   ],
   "source": [
    "# and now train the model\n",
    "# batch_size should be appropriate to your memory size\n",
    "# number of epochs should be higher for real world problems\n",
    "history = model.fit(X_train, y_train, batch_size=64, epochs=90, validation_split=0.2)"
   ]
  },
  {
   "cell_type": "code",
   "execution_count": null,
   "metadata": {},
   "outputs": [],
   "source": [
    "print(history.history.keys())\n",
    "print(len(history.history['val_loss']))\n",
    "# summarize history for loss\n",
    "plt.plot(history.history['loss'][-40:])\n",
    "plt.plot(history.history['val_loss'][-40:])\n",
    "plt.title('model loss')\n",
    "plt.ylabel('loss')\n",
    "plt.xlabel('epoch')\n",
    "plt.legend(['train', 'test'], loc='upper left')\n",
    "plt.show()"
   ]
  },
  {
   "cell_type": "code",
   "execution_count": null,
   "metadata": {},
   "outputs": [],
   "source": [
    "# evaluate model fit\n",
    "score = model.evaluate(X_test, y_test)\n",
    "print('Test score:', score)"
   ]
  },
  {
   "cell_type": "code",
   "execution_count": null,
   "metadata": {},
   "outputs": [],
   "source": [
    "# perform approximation\n",
    "test_prediction = model.predict(X_test)"
   ]
  },
  {
   "cell_type": "code",
   "execution_count": null,
   "metadata": {},
   "outputs": [],
   "source": [
    "# perform modelling\n",
    "X_model = X_test[0]\n",
    "modelled_data = []\n",
    "dims = 1, X_model.shape[0], X_model.shape[1]\n",
    "for i in range(len(y_test)):\n",
    "    prev_steps = X_model.reshape(*dims)\n",
    "    next_step = model.predict(prev_steps)\n",
    "    modelled_data.append(list(next_step[0]))\n",
    "    X_model = np.append(X_model[1:], next_step)\n",
    "# evaluate\n",
    "if len(modelled_data)==len(y_test):\n",
    "    print(np.mean((modelled_data-y_test)**2))"
   ]
  },
  {
   "cell_type": "code",
   "execution_count": null,
   "metadata": {},
   "outputs": [],
   "source": [
    "plt.figure(figsize=(20,10))\n",
    "plt.plot(y_test[:200], label='test_data')\n",
    "plt.plot(modelled_data[:200], label='test_model')\n",
    "plt.title('Test Observation and Prediction')\n",
    "plt.legend()"
   ]
  },
  {
   "cell_type": "code",
   "execution_count": null,
   "metadata": {},
   "outputs": [],
   "source": [
    "plt.figure(figsize=(20,10))\n",
    "plt.plot(y_test[:], label='test_data')\n",
    "plt.plot(test_prediction[:], label='test_pred')\n",
    "plt.title('Test Observation and Prediction')\n",
    "plt.legend()"
   ]
  },
  {
   "cell_type": "code",
   "execution_count": null,
   "metadata": {},
   "outputs": [],
   "source": [
    "train_prediction = model.predict(X_train)"
   ]
  },
  {
   "cell_type": "code",
   "execution_count": null,
   "metadata": {},
   "outputs": [],
   "source": [
    "plt.figure(figsize=(20,10))\n",
    "plt.plot(y_train[:], label='train_data')\n",
    "plt.plot(train_prediction[:], label='train_pred')\n",
    "plt.title('Train Observation and Prediction')\n",
    "plt.legend()"
   ]
  },
  {
   "cell_type": "code",
   "execution_count": null,
   "metadata": {},
   "outputs": [],
   "source": []
  },
  {
   "cell_type": "code",
   "execution_count": null,
   "metadata": {},
   "outputs": [],
   "source": []
  }
 ],
 "metadata": {
  "kernelspec": {
   "display_name": "Python 3",
   "language": "python",
   "name": "python3"
  },
  "language_info": {
   "codemirror_mode": {
    "name": "ipython",
    "version": 3
   },
   "file_extension": ".py",
   "mimetype": "text/x-python",
   "name": "python",
   "nbconvert_exporter": "python",
   "pygments_lexer": "ipython3",
   "version": "3.6.5"
  }
 },
 "nbformat": 4,
 "nbformat_minor": 2
}
